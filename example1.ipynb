{
  "nbformat": 4,
  "nbformat_minor": 0,
  "metadata": {
    "colab": {
      "name": "example1.ipynb",
      "provenance": [],
      "collapsed_sections": [],
      "include_colab_link": true
    },
    "kernelspec": {
      "name": "python3",
      "display_name": "Python 3"
    }
  },
  "cells": [
    {
      "cell_type": "markdown",
      "metadata": {
        "id": "view-in-github",
        "colab_type": "text"
      },
      "source": [
        "<a href=\"https://colab.research.google.com/github/RaneemQaddoura/BoxPlotPlotly/blob/master/example1.ipynb\" target=\"_parent\"><img src=\"https://colab.research.google.com/assets/colab-badge.svg\" alt=\"Open In Colab\"/></a>"
      ]
    },
    {
      "cell_type": "markdown",
      "metadata": {
        "id": "xDHnOXVpdhqM",
        "colab_type": "text"
      },
      "source": [
        "<h1>Nearest Point with Indexing Ratio (NPIR)</h1>\n",
        "An efficient clustering algorithm based on the k-nearest neighbors with an indexing ratio"
      ]
    },
    {
      "cell_type": "markdown",
      "metadata": {
        "id": "Ez_-PBAldmnx",
        "colab_type": "text"
      },
      "source": [
        "Nearest Point with Indexing Ratio (NPIR) is a clustering algorithm which explores the characteristics of the data points to group similar data points into the same clusters and dissimilar data points into different clusters. It is based on the nearest neighbor search technique in finding a k-nearest neighbor to a certain point. The algorithm iterates to assign data points to the most suitable clusters. It performs Election, Selection, and Assignment operations to assign data points to appropriate clusters."
      ]
    },
    {
      "cell_type": "markdown",
      "metadata": {
        "id": "X2GG8uYydpYC",
        "colab_type": "text"
      },
      "source": [
        "<h2>Installation</h2>"
      ]
    },
    {
      "cell_type": "markdown",
      "metadata": {
        "id": "74qavDbAduJM",
        "colab_type": "text"
      },
      "source": [
        "Python 3.xx is required"
      ]
    },
    {
      "cell_type": "markdown",
      "metadata": {
        "id": "60ih1JvtdxS5",
        "colab_type": "text"
      },
      "source": [
        "<h2>GitHub</h2>"
      ]
    },
    {
      "cell_type": "markdown",
      "metadata": {
        "id": "NBV9uLU8d0kj",
        "colab_type": "text"
      },
      "source": [
        "Clone the Git repository from GitHub:\n",
        "git clone https://github.com/RaneemQaddoura/NPIR.git"
      ]
    },
    {
      "cell_type": "code",
      "metadata": {
        "id": "y9cptk_KxsuG",
        "colab_type": "code",
        "colab": {}
      },
      "source": [
        "!git clone https://github.com/RaneemQaddoura/NPIR.git"
      ],
      "execution_count": null,
      "outputs": []
    },
    {
      "cell_type": "code",
      "metadata": {
        "id": "IXGpBJ2QyaFf",
        "colab_type": "code",
        "colab": {}
      },
      "source": [
        "# Change working directory\n",
        "import os\n",
        "os.chdir(\"NPIR/\")"
      ],
      "execution_count": null,
      "outputs": []
    },
    {
      "cell_type": "code",
      "metadata": {
        "id": "Xb2orhr8yg0N",
        "colab_type": "code",
        "colab": {}
      },
      "source": [
        "#Install NumPy, SciPy, sklearn, pandas, treelib, and matplotlib\n",
        "!pip install -r requirements.txt"
      ],
      "execution_count": null,
      "outputs": []
    },
    {
      "cell_type": "code",
      "metadata": {
        "id": "pxI2S08PzFuR",
        "colab_type": "code",
        "colab": {}
      },
      "source": [
        "#import some packages\n",
        "from sklearn import metrics\n",
        "from NPIR import NPIR\n",
        "import numpy as np\n",
        "import datetime\n",
        "import warnings\n",
        "warnings.simplefilter(action='ignore', category=FutureWarning)"
      ],
      "execution_count": null,
      "outputs": []
    },
    {
      "cell_type": "code",
      "metadata": {
        "id": "XknvbftizNXM",
        "colab_type": "code",
        "colab": {}
      },
      "source": [
        "datasets_directory = \"datasets/\"\n",
        "#Get current time (start time)\n",
        "tStart = datetime.datetime.now()\n",
        "# Select data sets\n",
        "#\"aggregation\",\"aniso\",\"appendicitis\",\"blobs\",\"circles\",\"diagnosis_II\",\"flame\",\"glass\",\"iris\",\"iris2D\",\"jain\",\"liver\",\"moons\",\"mouse\",\"pathbased\",\"seeds\",\"smiley\",\"varied\",\"vary-density\",\"wdbc\",\"wine\"\n",
        "filename = \"vary-density\"\n",
        "#IR: The indexing ratio to be used for generating the maximum index\n",
        "IR = 0.15\n",
        "#The number of iteration i\n",
        "i = 50"
      ],
      "execution_count": null,
      "outputs": []
    },
    {
      "cell_type": "code",
      "metadata": {
        "id": "RkToNhYRzSX3",
        "colab_type": "code",
        "colab": {}
      },
      "source": [
        "#data manipulation\n",
        "data = np.genfromtxt(datasets_directory + filename + '.csv', delimiter=',')\n",
        "points = data[:,:-1] #list of points\n",
        "labelsTrue = data[:,-1] #List of true class of each points (last field)\n",
        "k = 3 #k: Number of clusters"
      ],
      "execution_count": null,
      "outputs": []
    },
    {
      "cell_type": "code",
      "metadata": {
        "id": "0WUDKmgHzVax",
        "colab_type": "code",
        "colab": {}
      },
      "source": [
        "#running NPIR\n",
        "labelsPred = NPIR(points,k,IR,i)"
      ],
      "execution_count": null,
      "outputs": []
    },
    {
      "cell_type": "code",
      "metadata": {
        "id": "DkY7E5qExyEP",
        "colab_type": "code",
        "colab": {}
      },
      "source": [
        "#printing results\n",
        "print('labels:')\n",
        "print(labelsPred)\n",
        "\n",
        "tEnd = datetime.datetime.now()\n",
        "print('Time: ' + str(tEnd - tStart))\n",
        "print('Measures:')\n",
        "print('HS: ' + str(metrics.homogeneity_score(labelsTrue,labelsPred)))\n",
        "print('CS: ' + str(metrics.completeness_score(labelsTrue,labelsPred)))\n",
        "print('VM: ' + str(metrics.v_measure_score(labelsTrue,labelsPred)))\n",
        "print('AMI: ' + str(metrics.adjusted_mutual_info_score(labelsTrue,labelsPred)))\n",
        "print('ARI: ' + str(metrics.adjusted_rand_score(labelsTrue,labelsPred)))"
      ],
      "execution_count": null,
      "outputs": []
    },
    {
      "cell_type": "code",
      "metadata": {
        "id": "uLZOxRRczYrs",
        "colab_type": "code",
        "colab": {
          "base_uri": "https://localhost:8080/",
          "height": 282
        },
        "outputId": "86b6226f-bed6-4edc-f850-ed0657a9ac78"
      },
      "source": [
        "import matplotlib.pyplot as plt\n",
        "from itertools import cycle, islice \n",
        "data = np.genfromtxt(datasets_directory + filename + '.csv', delimiter=\",\")\n",
        "fig = plt.figure()      \n",
        "colors = np.array(list(islice(cycle(['#377eb8', '#ff7f00', '#4daf4a','#f781bf', '#a65628', '#984ea3',\n",
        "                                    '#999999', '#e41a1c', '#dede00']),int(k))))\n",
        "plt.scatter(data[:, 0], data[:, 1], s=10, color=colors[labelsPred.tolist()])      \n",
        "plt.show()\n",
        "plt.clf()"
      ],
      "execution_count": null,
      "outputs": [
        {
          "output_type": "display_data",
          "data": {
            "image/png": "[encoded data removed]",
            "text/plain": [
              "<Figure size 432x288 with 1 Axes>"
            ]
          },
          "metadata": {
            "tags": [],
            "needs_background": "light"
          }
        },
        {
          "output_type": "display_data",
          "data": {
            "text/plain": [
              "<Figure size 432x288 with 0 Axes>"
            ]
          },
          "metadata": {
            "tags": []
          }
        }
      ]
    },
    {
      "cell_type": "markdown",
      "metadata": {
        "id": "ccQTTD59pXI_",
        "colab_type": "text"
      },
      "source": [
        "<h2>Citation Request</h2>"
      ]
    },
    {
      "cell_type": "markdown",
      "metadata": {
        "id": "d_gUorebpX2f",
        "colab_type": "text"
      },
      "source": [
        "Qaddoura, R., Faris, H., & Aljarah, I. (2019). An efficient clustering algorithm based on the k-nearest neighbors with an indexing ratio. International Journal of Machine Learning and Cybernetics, 1-40."
      ]
    }
  ]
}